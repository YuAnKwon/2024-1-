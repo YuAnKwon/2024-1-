{
 "cells": [
  {
   "cell_type": "code",
   "execution_count": 10,
   "id": "61242f17",
   "metadata": {},
   "outputs": [
    {
     "data": {
      "text/html": [
       "<div>\n",
       "<style scoped>\n",
       "    .dataframe tbody tr th:only-of-type {\n",
       "        vertical-align: middle;\n",
       "    }\n",
       "\n",
       "    .dataframe tbody tr th {\n",
       "        vertical-align: top;\n",
       "    }\n",
       "\n",
       "    .dataframe thead th {\n",
       "        text-align: right;\n",
       "    }\n",
       "</style>\n",
       "<table border=\"1\" class=\"dataframe\">\n",
       "  <thead>\n",
       "    <tr style=\"text-align: right;\">\n",
       "      <th></th>\n",
       "      <th>순번</th>\n",
       "      <th>회사명</th>\n",
       "      <th>공장대표주소</th>\n",
       "      <th>업종명</th>\n",
       "      <th>생산품</th>\n",
       "      <th>전화번호</th>\n",
       "      <th>팩스번호</th>\n",
       "    </tr>\n",
       "  </thead>\n",
       "  <tbody>\n",
       "    <tr>\n",
       "      <th>0</th>\n",
       "      <td>1</td>\n",
       "      <td>(사)한국장애인사회복지회사회복지부</td>\n",
       "      <td>경상남도 창원시 진해구 웅천동로 204 (성내동)</td>\n",
       "      <td>구조용 금속 판제품 및 공작물 제조업 외 1 종</td>\n",
       "      <td>울타리,난간</td>\n",
       "      <td>055-547-1438</td>\n",
       "      <td>30331301438</td>\n",
       "    </tr>\n",
       "    <tr>\n",
       "      <th>1</th>\n",
       "      <td>2</td>\n",
       "      <td>(윈펠)WINPELL</td>\n",
       "      <td>경상남도 창원시 성산구 연덕로27번길 60 (웅남동)</td>\n",
       "      <td>전투용 차량 제조업</td>\n",
       "      <td>차륜형 장갑차 휠(림/디스크)</td>\n",
       "      <td>055-271-7772</td>\n",
       "      <td>055-261-7774</td>\n",
       "    </tr>\n",
       "    <tr>\n",
       "      <th>2</th>\n",
       "      <td>3</td>\n",
       "      <td>(유)국제보링1급정비</td>\n",
       "      <td>경상남도 창원시 마산회원구 내서읍 중리공단로 149 (현대자동차서비스)</td>\n",
       "      <td>자동차 구조 및 장치 변경업  외 1 종</td>\n",
       "      <td>자동차정비</td>\n",
       "      <td>055-232-4442</td>\n",
       "      <td>055-232-3663</td>\n",
       "    </tr>\n",
       "    <tr>\n",
       "      <th>3</th>\n",
       "      <td>4</td>\n",
       "      <td>(유)두루산업사</td>\n",
       "      <td>경상남도 창원시 마산회원구 봉암공단9길 10 (봉암동, (유)두루산업사)</td>\n",
       "      <td>공기 조화장치 제조업 외 2 종</td>\n",
       "      <td>생산품 가습기, 차아염소산수 제조장치</td>\n",
       "      <td>055-251-3040</td>\n",
       "      <td>055-251-4619</td>\n",
       "    </tr>\n",
       "    <tr>\n",
       "      <th>4</th>\n",
       "      <td>5</td>\n",
       "      <td>(유)리앤리테크</td>\n",
       "      <td>경상남도 창원시 성산구 반월로 16 (신촌동) 외 2필지</td>\n",
       "      <td>그 외 자동차용 신품 부품 제조업 외 3 종</td>\n",
       "      <td>자동차부품</td>\n",
       "      <td>055-603-3106</td>\n",
       "      <td>055-603-3114</td>\n",
       "    </tr>\n",
       "    <tr>\n",
       "      <th>...</th>\n",
       "      <td>...</td>\n",
       "      <td>...</td>\n",
       "      <td>...</td>\n",
       "      <td>...</td>\n",
       "      <td>...</td>\n",
       "      <td>...</td>\n",
       "      <td>...</td>\n",
       "    </tr>\n",
       "    <tr>\n",
       "      <th>4569</th>\n",
       "      <td>4570</td>\n",
       "      <td>희성테크</td>\n",
       "      <td>경상남도 창원시 성산구 월림로67번길 5 (신촌동, 신촌동공장)</td>\n",
       "      <td>경 인쇄업 외 1 종</td>\n",
       "      <td>라벨류</td>\n",
       "      <td>055-286-8450</td>\n",
       "      <td>055-286-8453</td>\n",
       "    </tr>\n",
       "    <tr>\n",
       "      <th>4570</th>\n",
       "      <td>4571</td>\n",
       "      <td>히트케이(주)</td>\n",
       "      <td>경상남도 창원시 마산합포구 3·15대로 298, 504호(서성동, 경남대학교 창업보육관)</td>\n",
       "      <td>그 외 기타 전자부품 제조업</td>\n",
       "      <td>면상발열체 모듈</td>\n",
       "      <td>NaN</td>\n",
       "      <td>NaN</td>\n",
       "    </tr>\n",
       "    <tr>\n",
       "      <th>4571</th>\n",
       "      <td>4572</td>\n",
       "      <td>히팅플러스</td>\n",
       "      <td>경상남도 창원시 성산구 완암로 50, 넥스동 7층 705 (성산동, SK테크노파크)</td>\n",
       "      <td>그 외 기타 금속가공업</td>\n",
       "      <td>금속 구조물</td>\n",
       "      <td>NaN</td>\n",
       "      <td>NaN</td>\n",
       "    </tr>\n",
       "    <tr>\n",
       "      <th>4572</th>\n",
       "      <td>4573</td>\n",
       "      <td>힐데갈드화장품</td>\n",
       "      <td>경상남도 창원시 의창구 차룡로48번길 44 (팔용동) 1동 5층 505호</td>\n",
       "      <td>화장품 제조업</td>\n",
       "      <td>천연화장품</td>\n",
       "      <td>055-822-8080</td>\n",
       "      <td>NaN</td>\n",
       "    </tr>\n",
       "    <tr>\n",
       "      <th>4573</th>\n",
       "      <td>4574</td>\n",
       "      <td>힘멜테크</td>\n",
       "      <td>경상남도 창원시 성산구 완암로 50, 테크동 9층 913 (성산동, SK테크노파크)</td>\n",
       "      <td>기타 인쇄업 외 1 종</td>\n",
       "      <td>인쇄물</td>\n",
       "      <td>055-276-5764</td>\n",
       "      <td>055-901-0260</td>\n",
       "    </tr>\n",
       "  </tbody>\n",
       "</table>\n",
       "<p>4574 rows × 7 columns</p>\n",
       "</div>"
      ],
      "text/plain": [
       "        순번                 회사명  \\\n",
       "0        1  (사)한국장애인사회복지회사회복지부   \n",
       "1        2         (윈펠)WINPELL   \n",
       "2        3         (유)국제보링1급정비   \n",
       "3        4            (유)두루산업사   \n",
       "4        5            (유)리앤리테크   \n",
       "...    ...                 ...   \n",
       "4569  4570                희성테크   \n",
       "4570  4571             히트케이(주)   \n",
       "4571  4572               히팅플러스   \n",
       "4572  4573             힐데갈드화장품   \n",
       "4573  4574                힘멜테크   \n",
       "\n",
       "                                                 공장대표주소  \\\n",
       "0                           경상남도 창원시 진해구 웅천동로 204 (성내동)   \n",
       "1                         경상남도 창원시 성산구 연덕로27번길 60 (웅남동)   \n",
       "2               경상남도 창원시 마산회원구 내서읍 중리공단로 149 (현대자동차서비스)   \n",
       "3              경상남도 창원시 마산회원구 봉암공단9길 10 (봉암동, (유)두루산업사)   \n",
       "4                       경상남도 창원시 성산구 반월로 16 (신촌동) 외 2필지   \n",
       "...                                                 ...   \n",
       "4569                경상남도 창원시 성산구 월림로67번길 5 (신촌동, 신촌동공장)   \n",
       "4570  경상남도 창원시 마산합포구 3·15대로 298, 504호(서성동, 경남대학교 창업보육관)   \n",
       "4571     경상남도 창원시 성산구 완암로 50, 넥스동 7층 705 (성산동, SK테크노파크)   \n",
       "4572           경상남도 창원시 의창구 차룡로48번길 44 (팔용동) 1동 5층 505호   \n",
       "4573     경상남도 창원시 성산구 완암로 50, 테크동 9층 913 (성산동, SK테크노파크)   \n",
       "\n",
       "                             업종명                   생산품          전화번호  \\\n",
       "0     구조용 금속 판제품 및 공작물 제조업 외 1 종                울타리,난간  055-547-1438   \n",
       "1                     전투용 차량 제조업      차륜형 장갑차 휠(림/디스크)  055-271-7772   \n",
       "2         자동차 구조 및 장치 변경업  외 1 종                 자동차정비  055-232-4442   \n",
       "3              공기 조화장치 제조업 외 2 종  생산품 가습기, 차아염소산수 제조장치  055-251-3040   \n",
       "4       그 외 자동차용 신품 부품 제조업 외 3 종                 자동차부품  055-603-3106   \n",
       "...                          ...                   ...           ...   \n",
       "4569                 경 인쇄업 외 1 종                   라벨류  055-286-8450   \n",
       "4570             그 외 기타 전자부품 제조업              면상발열체 모듈           NaN   \n",
       "4571                그 외 기타 금속가공업                금속 구조물           NaN   \n",
       "4572                     화장품 제조업                 천연화장품  055-822-8080   \n",
       "4573                기타 인쇄업 외 1 종                   인쇄물  055-276-5764   \n",
       "\n",
       "              팩스번호  \n",
       "0      30331301438  \n",
       "1     055-261-7774  \n",
       "2     055-232-3663  \n",
       "3     055-251-4619  \n",
       "4     055-603-3114  \n",
       "...            ...  \n",
       "4569  055-286-8453  \n",
       "4570           NaN  \n",
       "4571           NaN  \n",
       "4572           NaN  \n",
       "4573  055-901-0260  \n",
       "\n",
       "[4574 rows x 7 columns]"
      ]
     },
     "execution_count": 10,
     "metadata": {},
     "output_type": "execute_result"
    }
   ],
   "source": [
    "import pandas as pd\n",
    "\n",
    "df=pd.read_csv('경상남도_창원시_공장등록현황_20210831.csv',encoding='UTF-8-SIG')\n",
    "df"
   ]
  },
  {
   "cell_type": "code",
   "execution_count": 11,
   "id": "1a39a612",
   "metadata": {},
   "outputs": [
    {
     "data": {
      "text/plain": [
       "Index(['순번', '회사명', '공장대표주소', '업종명', '생산품', '전화번호', '팩스번호'], dtype='object')"
      ]
     },
     "execution_count": 11,
     "metadata": {},
     "output_type": "execute_result"
    }
   ],
   "source": [
    "df.columns"
   ]
  },
  {
   "cell_type": "code",
   "execution_count": 12,
   "id": "4af8c9ef",
   "metadata": {},
   "outputs": [
    {
     "name": "stdout",
     "output_type": "stream",
     "text": [
      "<class 'pandas.core.frame.DataFrame'>\n",
      "RangeIndex: 4574 entries, 0 to 4573\n",
      "Data columns (total 7 columns):\n",
      " #   Column  Non-Null Count  Dtype \n",
      "---  ------  --------------  ----- \n",
      " 0   순번      4574 non-null   int64 \n",
      " 1   회사명     4574 non-null   object\n",
      " 2   공장대표주소  4574 non-null   object\n",
      " 3   업종명     4574 non-null   object\n",
      " 4   생산품     4574 non-null   object\n",
      " 5   전화번호    4125 non-null   object\n",
      " 6   팩스번호    3964 non-null   object\n",
      "dtypes: int64(1), object(6)\n",
      "memory usage: 250.3+ KB\n"
     ]
    }
   ],
   "source": [
    "df.info() # 어떤게 누락됐는지 알수있음.  전화번호, 팩스번호"
   ]
  },
  {
   "cell_type": "code",
   "execution_count": 13,
   "id": "58d46101",
   "metadata": {},
   "outputs": [
    {
     "data": {
      "text/plain": [
       "0                             경상남도 창원시 진해구 웅천동로 204 (성내동)\n",
       "1                           경상남도 창원시 성산구 연덕로27번길 60 (웅남동)\n",
       "2                 경상남도 창원시 마산회원구 내서읍 중리공단로 149 (현대자동차서비스)\n",
       "3                경상남도 창원시 마산회원구 봉암공단9길 10 (봉암동, (유)두루산업사)\n",
       "4                         경상남도 창원시 성산구 반월로 16 (신촌동) 외 2필지\n",
       "                              ...                        \n",
       "4569                  경상남도 창원시 성산구 월림로67번길 5 (신촌동, 신촌동공장)\n",
       "4570    경상남도 창원시 마산합포구 3·15대로 298, 504호(서성동, 경남대학교 창업보육관)\n",
       "4571       경상남도 창원시 성산구 완암로 50, 넥스동 7층 705 (성산동, SK테크노파크)\n",
       "4572             경상남도 창원시 의창구 차룡로48번길 44 (팔용동) 1동 5층 505호\n",
       "4573       경상남도 창원시 성산구 완암로 50, 테크동 9층 913 (성산동, SK테크노파크)\n",
       "Name: 공장대표주소, Length: 4574, dtype: object"
      ]
     },
     "execution_count": 13,
     "metadata": {},
     "output_type": "execute_result"
    }
   ],
   "source": [
    "address = df['공장대표주소']\n",
    "address"
   ]
  },
  {
   "cell_type": "markdown",
   "id": "f5e24dbf",
   "metadata": {},
   "source": [
    "# 1 진해구가 있는 주소 개수 뽑기"
   ]
  },
  {
   "cell_type": "code",
   "execution_count": 14,
   "id": "9983d687",
   "metadata": {},
   "outputs": [
    {
     "data": {
      "text/plain": [
       "False    4290\n",
       "True      284\n",
       "Name: 공장대표주소, dtype: int64"
      ]
     },
     "execution_count": 14,
     "metadata": {},
     "output_type": "execute_result"
    }
   ],
   "source": [
    "address.str.contains('진해구').value_counts()"
   ]
  },
  {
   "cell_type": "code",
   "execution_count": 15,
   "id": "a48f6a5b",
   "metadata": {},
   "outputs": [
    {
     "data": {
      "text/plain": [
       "284"
      ]
     },
     "execution_count": 15,
     "metadata": {},
     "output_type": "execute_result"
    }
   ],
   "source": [
    "len(address[address.str.contains('진해구')]) # 개수 뽑기~~\n"
   ]
  },
  {
   "cell_type": "code",
   "execution_count": 16,
   "id": "e0fd6c25",
   "metadata": {},
   "outputs": [
    {
     "data": {
      "text/plain": [
       "4574.0"
      ]
     },
     "execution_count": 16,
     "metadata": {},
     "output_type": "execute_result"
    }
   ],
   "source": [
    "import numpy as np\n",
    "gu  =['성산구','의창구','마산합포구','마산회원구','진해구']\n",
    "num_factory = np.zeros(5)\n",
    "for x in range(5):\n",
    "    num_factory[x] = len(address[address.str.contains(gu[x])])\n",
    "\n",
    "np.sum(num_factory)"
   ]
  },
  {
   "cell_type": "code",
   "execution_count": 17,
   "id": "549e5e96",
   "metadata": {},
   "outputs": [
    {
     "data": {
      "text/plain": [
       "array([1753., 1252.,  395.,  890.,  284.])"
      ]
     },
     "execution_count": 17,
     "metadata": {},
     "output_type": "execute_result"
    }
   ],
   "source": [
    "num_factory"
   ]
  },
  {
   "cell_type": "code",
   "execution_count": 38,
   "id": "32da9538",
   "metadata": {},
   "outputs": [],
   "source": [
    "from matplotlib import font_manager, rc\n",
    "font_path = 'c:/Windows/Fonts/NGULIM.TTF'\n",
    "font = font_manager.FontProperties(fname=font_path).get_name()\n",
    "rc('font', family=font)"
   ]
  },
  {
   "cell_type": "code",
   "execution_count": 37,
   "id": "8aac167d",
   "metadata": {},
   "outputs": [
    {
     "data": {
      "text/plain": [
       "성산구      1753.0\n",
       "의창구      1252.0\n",
       "마산합포구     395.0\n",
       "마산회원구     890.0\n",
       "진해구       284.0\n",
       "dtype: float64"
      ]
     },
     "execution_count": 37,
     "metadata": {},
     "output_type": "execute_result"
    }
   ],
   "source": [
    "Number_Factory_Gu = pd.Series(num_factory, index=gu)\n",
    "Number_Factory_Gu"
   ]
  },
  {
   "cell_type": "code",
   "execution_count": 44,
   "id": "1d02f648",
   "metadata": {},
   "outputs": [
    {
     "data": {
      "image/png": "[encoded data removed]",
      "text/plain": [
       "<Figure size 576x576 with 1 Axes>"
      ]
     },
     "metadata": {
      "needs_background": "light"
     },
     "output_type": "display_data"
    }
   ],
   "source": [
    "import matplotlib.pyplot as plt\n",
    "x = np.arange(5)\n",
    "plt.bar(x,Number_Factory_Gu, color=('orange','r','b','m','c'))\n",
    "plt.xticks(x,gu)\n",
    "plt.show()"
   ]
  },
  {
   "cell_type": "code",
   "execution_count": 45,
   "id": "04cbd31b",
   "metadata": {},
   "outputs": [
    {
     "data": {
      "text/plain": [
       "<AxesSubplot:ylabel='None'>"
      ]
     },
     "execution_count": 45,
     "metadata": {},
     "output_type": "execute_result"
    },
    {
     "data": {
      "image/png": "[encoded data removed]",
      "text/plain": [
       "<Figure size 576x576 with 1 Axes>"
      ]
     },
     "metadata": {},
     "output_type": "display_data"
    }
   ],
   "source": [
    "Number_Factory_Gu.plot.pie()"
   ]
  },
  {
   "cell_type": "code",
   "execution_count": 43,
   "id": "146743b7",
   "metadata": {},
   "outputs": [],
   "source": [
    "plt.rcParams['figure.figsize'] = [8,8] # [width, height] (inches)\n"
   ]
  },
  {
   "cell_type": "code",
   "execution_count": null,
   "id": "904346d6",
   "metadata": {},
   "outputs": [],
   "source": []
  }
 ],
 "metadata": {
  "kernelspec": {
   "display_name": "Python 3 (ipykernel)",
   "language": "python",
   "name": "python3"
  },
  "language_info": {
   "codemirror_mode": {
    "name": "ipython",
    "version": 3
   },
   "file_extension": ".py",
   "mimetype": "text/x-python",
   "name": "python",
   "nbconvert_exporter": "python",
   "pygments_lexer": "ipython3",
   "version": "3.10.9"
  }
 },
 "nbformat": 4,
 "nbformat_minor": 5
}
