{
 "cells": [
  {
   "cell_type": "markdown",
   "id": "c8e09aa5",
   "metadata": {},
   "source": [
    "# Series, DataFrame"
   ]
  },
  {
   "cell_type": "code",
   "execution_count": 1,
   "id": "13c0dcf4",
   "metadata": {},
   "outputs": [],
   "source": [
    "import numpy as np\n",
    "import pandas as pd\n",
    "from pandas import Series, DataFrame\n",
    "import sys\n",
    "import re\n",
    "import matplotlib.pyplot as plt\n",
    "import seaborn as sns"
   ]
  },
  {
   "cell_type": "code",
   "execution_count": 5,
   "id": "9774b9d3",
   "metadata": {},
   "outputs": [
    {
     "ename": "NameError",
     "evalue": "name 'obj4' is not defined",
     "output_type": "error",
     "traceback": [
      "\u001b[1;31m---------------------------------------------------------------------------\u001b[0m",
      "\u001b[1;31mNameError\u001b[0m                                 Traceback (most recent call last)",
      "Cell \u001b[1;32mIn[5], line 4\u001b[0m\n\u001b[0;32m      1\u001b[0m obj \u001b[38;5;241m=\u001b[39m pd\u001b[38;5;241m.\u001b[39mSeries([\u001b[38;5;241m4\u001b[39m,\u001b[38;5;241m7\u001b[39m,\u001b[38;5;241m-\u001b[39m\u001b[38;5;241m5\u001b[39m,\u001b[38;5;241m3\u001b[39m], index\u001b[38;5;241m=\u001b[39m[\u001b[38;5;124m'\u001b[39m\u001b[38;5;124md\u001b[39m\u001b[38;5;124m'\u001b[39m,\u001b[38;5;124m'\u001b[39m\u001b[38;5;124mb\u001b[39m\u001b[38;5;124m'\u001b[39m,\u001b[38;5;124m'\u001b[39m\u001b[38;5;124ma\u001b[39m\u001b[38;5;124m'\u001b[39m,\u001b[38;5;124m'\u001b[39m\u001b[38;5;124mc\u001b[39m\u001b[38;5;124m'\u001b[39m]) \n\u001b[0;32m      3\u001b[0m \u001b[38;5;66;03m# 제목 이름 붙이기. \u001b[39;00m\n\u001b[1;32m----> 4\u001b[0m \u001b[43mobj4\u001b[49m\u001b[38;5;241m.\u001b[39mname \u001b[38;5;241m=\u001b[39m \u001b[38;5;124m'\u001b[39m\u001b[38;5;124mpopulation\u001b[39m\u001b[38;5;124m'\u001b[39m  \u001b[38;5;66;03m#Series 객체에 name 이름속성부여\u001b[39;00m\n\u001b[0;32m      5\u001b[0m obj4\u001b[38;5;241m.\u001b[39mindex\u001b[38;5;241m.\u001b[39mname \u001b[38;5;241m=\u001b[39m \u001b[38;5;124m'\u001b[39m\u001b[38;5;124mstate\u001b[39m\u001b[38;5;124m'\u001b[39m \u001b[38;5;66;03m#Series 색인에 name 이름 속성부여\u001b[39;00m\n\u001b[0;32m      8\u001b[0m \u001b[38;5;66;03m#DataFrame 만들기 (no index)\u001b[39;00m\n",
      "\u001b[1;31mNameError\u001b[0m: name 'obj4' is not defined"
     ]
    }
   ],
   "source": [
    "obj = pd.Series([4,7,-5,3], index=['d','b','a','c']) \n",
    "\n",
    "# 제목 이름 붙이기. \n",
    "obj4.name = 'population'  #Series 객체에 name 이름속성부여\n",
    "obj4.index.name = 'state' #Series 색인에 name 이름 속성부여\n",
    "\n",
    "\n",
    "#DataFrame 만들기 (no index)\n",
    "data = {'state': ['Ohio', 'Ohio', 'Ohio', 'Nevada', 'Nevada', 'Nevada'],\n",
    "       'year' : [2000, 2001, 2002, 2001, 2002, 2003],\n",
    "       'pop' : [1.5, 1.7, 3.6, 2.4, 2.9, 3.2]}\n",
    "frame = pd.DataFrame(data)\n",
    "\n",
    "\n",
    "pd.DataFrame(data, columns=['year', 'state']) #컬럼순서변경\n",
    "\n",
    "\n",
    "#DataFrame 에 columns, index 직접 넣기\n",
    "frame2 = pd.DataFrame(data, columns = ['year', 'state', 'pop', 'debt'],\n",
    "                     index = ['one', 'two', 'three', 'four', 'five', 'six'])\n",
    "\n",
    "\n",
    "\n",
    "# 중첩된 dictionary를 DataFrame에 넘기면, 바깥의 키는 컬럼이 되고 안쪽의 키는 로우가 된다.\n",
    "# index는 0부터 숫자 부여됨.\n",
    "pop = {'Nevada': {2001: 2.4, 2002: 2.9},\n",
    "      'Ohio': {2000: 1.5, 2001: 1.7, 2002: 3.6}}\n",
    "frame3 = pd.DataFrame(pop)\n",
    "\n",
    "\n",
    "obj3.reindex(range(6), method='ffill') # index 바꾸기.\n",
    "frame2=frame.reindex(['a', 'b', 'c', 'd']) #rows 명 색인 바꾸기\n",
    "states=['Texas', 'Utha', 'California'] #columns 색인 바꾸기\n",
    "frame.reindex(columns=states)\n",
    "\n",
    "\n",
    "obj.drop('c', inplace=True) #drop해서 없애기\n",
    "data.drop('two', axis=1)\n",
    "\n",
    "\n",
    "data[data['three'] > 5] #boolean 배열로 찾기\n",
    "data.loc['Colorado', ['two','three']] # 가로줄 출력\n",
    "data.iloc[[1,2],[3,0,1]] # 가로줄 출력\n",
    "\n",
    "\n",
    "format = lambda x: '%.2f' % x   #DataFrame은 applymap\n",
    "frame.applymap(format)\n",
    "frame['e'].map(format) #Series는 map\n",
    "\n",
    "\n",
    "obj.sort_index(axis=1, ascending=False)  #index 정렬\n",
    "frame.sort_values(by=['a','b']) #value로 정렬 (컬럼으로 정렬)\n",
    "\n",
    "obj.rank(ascending=False, method='max') #rank 매김  오름차순 내림차순\n",
    "obj.index.is_unique #중복색인 인지 아닌지\n",
    "df.mean(axis='columns', skipna=False) # 평균값 NaN 제외\n",
    "df.cumsum() #누적합\n",
    "obj.value_counts() #중복인 index의 각각 몇개 들어있는지.\n",
    "\n",
    "# Index.get_indexer 메서드는 여러값이 들어있는 배열에서 유일한 값의 색인 배열을 구할 수 있다.\n",
    "unique_vals = obj.unique() # 중복인 index중에서 하나씩만 출력\n",
    "pd.Index(unique_vals).get_indexer(obj)"
   ]
  },
  {
   "cell_type": "code",
   "execution_count": 6,
   "id": "809c5c05",
   "metadata": {},
   "outputs": [
    {
     "data": {
      "text/html": [
       "<div>\n",
       "<style scoped>\n",
       "    .dataframe tbody tr th:only-of-type {\n",
       "        vertical-align: middle;\n",
       "    }\n",
       "\n",
       "    .dataframe tbody tr th {\n",
       "        vertical-align: top;\n",
       "    }\n",
       "\n",
       "    .dataframe thead th {\n",
       "        text-align: right;\n",
       "    }\n",
       "</style>\n",
       "<table border=\"1\" class=\"dataframe\">\n",
       "  <thead>\n",
       "    <tr style=\"text-align: right;\">\n",
       "      <th></th>\n",
       "      <th>0</th>\n",
       "      <th>1</th>\n",
       "      <th>2</th>\n",
       "    </tr>\n",
       "  </thead>\n",
       "  <tbody>\n",
       "    <tr>\n",
       "      <th>0</th>\n",
       "      <td>1.0</td>\n",
       "      <td>6.5</td>\n",
       "      <td>3.0</td>\n",
       "    </tr>\n",
       "    <tr>\n",
       "      <th>1</th>\n",
       "      <td>1.0</td>\n",
       "      <td>NaN</td>\n",
       "      <td>NaN</td>\n",
       "    </tr>\n",
       "    <tr>\n",
       "      <th>2</th>\n",
       "      <td>NaN</td>\n",
       "      <td>NaN</td>\n",
       "      <td>NaN</td>\n",
       "    </tr>\n",
       "    <tr>\n",
       "      <th>3</th>\n",
       "      <td>NaN</td>\n",
       "      <td>6.5</td>\n",
       "      <td>3.0</td>\n",
       "    </tr>\n",
       "  </tbody>\n",
       "</table>\n",
       "</div>"
      ],
      "text/plain": [
       "     0    1    2\n",
       "0  1.0  6.5  3.0\n",
       "1  1.0  NaN  NaN\n",
       "2  NaN  NaN  NaN\n",
       "3  NaN  6.5  3.0"
      ]
     },
     "execution_count": 6,
     "metadata": {},
     "output_type": "execute_result"
    }
   ],
   "source": [
    "data = pd.DataFrame([[1., 6.5, 3.], [1., np.nan, np.nan],\n",
    "                   [np.nan, np.nan, np.nan], [np.nan, 6.5, 3.]])\n",
    "data"
   ]
  },
  {
   "cell_type": "code",
   "execution_count": 7,
   "id": "26ff348b",
   "metadata": {},
   "outputs": [
    {
     "data": {
      "text/plain": [
       "0    3.0\n",
       "1    NaN\n",
       "2    NaN\n",
       "3    3.0\n",
       "Name: 2, dtype: float64"
      ]
     },
     "execution_count": 7,
     "metadata": {},
     "output_type": "execute_result"
    }
   ],
   "source": [
    "# 컬럼 출력\n",
    "data[2]"
   ]
  },
  {
   "cell_type": "code",
   "execution_count": 8,
   "id": "64f69a95",
   "metadata": {},
   "outputs": [
    {
     "data": {
      "text/plain": [
       "0   NaN\n",
       "1   NaN\n",
       "2   NaN\n",
       "Name: 2, dtype: float64"
      ]
     },
     "execution_count": 8,
     "metadata": {},
     "output_type": "execute_result"
    }
   ],
   "source": [
    "# row 가로줄 행 출력.\n",
    "data.iloc[2]\n",
    "data.loc[2]"
   ]
  },
  {
   "cell_type": "code",
   "execution_count": null,
   "id": "cac36a26",
   "metadata": {},
   "outputs": [],
   "source": []
  }
 ],
 "metadata": {
  "kernelspec": {
   "display_name": "Python 3 (ipykernel)",
   "language": "python",
   "name": "python3"
  },
  "language_info": {
   "codemirror_mode": {
    "name": "ipython",
    "version": 3
   },
   "file_extension": ".py",
   "mimetype": "text/x-python",
   "name": "python",
   "nbconvert_exporter": "python",
   "pygments_lexer": "ipython3",
   "version": "3.10.9"
  }
 },
 "nbformat": 4,
 "nbformat_minor": 5
}
